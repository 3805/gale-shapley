{
 "cells": [
  {
   "cell_type": "code",
   "execution_count": 171,
   "metadata": {
    "collapsed": false
   },
   "outputs": [
    {
     "name": "stdout",
     "output_type": "stream",
     "text": [
      "FIN [1, 2, 3, 4, 5, 6, 7, 8, 9] []\n"
     ]
    }
   ],
   "source": [
    "A = [6,5,1,3,8,4,7,9,2]\n",
    "\n",
    "def swap(l, idx_a, idx_b):\n",
    "    val_a, val_b = l[idx_a], l[idx_b]\n",
    "    l[idx_a], l[idx_b] = val_b, val_a\n",
    "    return l\n",
    "\n",
    "def quick_sort(left, right):\n",
    "    if len(right) == 0:\n",
    "        print(\"FIN\", left, right)\n",
    "        \n",
    "    if len(right) >= 1:\n",
    "        pivot = right[len(right)-1]\n",
    "        \n",
    "        for i,e in enumerate(right):\n",
    "            if e < pivot:\n",
    "                new_array = swap(right, i, 0)\n",
    "                left.append(new_array[0])\n",
    "                right = new_array[1:]\n",
    "                return quick_sort(left, right)\n",
    "                \n",
    "            if i == len(right) - 1:\n",
    "                left.append(pivot)\n",
    "                right.append(right[0])\n",
    "                right.pop(right.index(pivot))\n",
    "                right.pop(0)\n",
    "                return quick_sort(left, right)\n",
    "                \n",
    "        \n",
    "quick_sort([], A)"
   ]
  },
  {
   "cell_type": "code",
   "execution_count": 196,
   "metadata": {
    "collapsed": false
   },
   "outputs": [
    {
     "data": {
      "text/plain": [
       "([1, 2, 3, 4, 5, 6, 7, 8, 9], [])"
      ]
     },
     "execution_count": 196,
     "metadata": {},
     "output_type": "execute_result"
    }
   ],
   "source": [
    "A = [6,5,1,3,8,4,7,9,2]\n",
    "\n",
    "def swap(l, idx_a, idx_b):\n",
    "    l[idx_a], l[idx_b] = l[idx_b], l[idx_a]\n",
    "    return l\n",
    "\n",
    "def quick_sort(left, right):\n",
    "    if len(right) == 0:\n",
    "        return left, right\n",
    "        \n",
    "    pivot = right[len(right)-1]\n",
    "\n",
    "    for i,e in enumerate(right):\n",
    "        if e < pivot:\n",
    "            new_array = swap(right, i, 0)\n",
    "            left.append(new_array[0])\n",
    "            right = new_array[1:]\n",
    "            return quick_sort(left, right)\n",
    "\n",
    "        if i == len(right) - 1:\n",
    "            left.append(pivot)\n",
    "            right.append(right[0])\n",
    "            right.pop(right.index(pivot))\n",
    "            right.pop(0)\n",
    "            return quick_sort(left, right)\n",
    "\n",
    "        \n",
    "quick_sort([], A)"
   ]
  },
  {
   "cell_type": "code",
   "execution_count": 183,
   "metadata": {
    "collapsed": false
   },
   "outputs": [
    {
     "name": "stdout",
     "output_type": "stream",
     "text": [
      "[]\n",
      "[1, 2, 3, 4]\n",
      "[-5, -2, 3, 3, 5, 19]\n"
     ]
    }
   ],
   "source": [
    "from random import randrange\n",
    "\n",
    "\n",
    "def partition(lst, start, end, pivot):\n",
    "    lst[pivot], lst[end] = lst[end], lst[pivot]\n",
    "    store_index = start\n",
    "    for i in range(start, end):\n",
    "        if lst[i] < lst[end]:\n",
    "            lst[i], lst[store_index] = lst[store_index], lst[i]\n",
    "            store_index += 1\n",
    "    lst[store_index], lst[end] = lst[end], lst[store_index]\n",
    "    return store_index\n",
    "\n",
    "\n",
    "def quick_sort(lst, start, end):\n",
    "    if start >= end:\n",
    "        return lst\n",
    "    pivot = randrange(start, end + 1)\n",
    "    new_pivot = partition(lst, start, end, pivot)\n",
    "    quick_sort(lst, start, new_pivot - 1)\n",
    "    quick_sort(lst, new_pivot + 1, end)\n",
    "\n",
    "\n",
    "def sort(lst):\n",
    "    quick_sort(lst, 0, len(lst) - 1)\n",
    "    return lst\n",
    "\n",
    "print(sort([]))\n",
    "print(sort([1, 2, 3, 4]))\n",
    "print(sort([-5, 3, -2, 3, 19, 5]))"
   ]
  }
 ],
 "metadata": {
  "kernelspec": {
   "display_name": "Python 3",
   "language": "python",
   "name": "python3"
  },
  "language_info": {
   "codemirror_mode": {
    "name": "ipython",
    "version": 3
   },
   "file_extension": ".py",
   "mimetype": "text/x-python",
   "name": "python",
   "nbconvert_exporter": "python",
   "pygments_lexer": "ipython3",
   "version": "3.5.2"
  }
 },
 "nbformat": 4,
 "nbformat_minor": 1
}
